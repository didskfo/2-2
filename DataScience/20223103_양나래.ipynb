{
  "nbformat": 4,
  "nbformat_minor": 0,
  "metadata": {
    "colab": {
      "provenance": []
    },
    "kernelspec": {
      "name": "python3",
      "display_name": "Python 3"
    },
    "language_info": {
      "name": "python"
    }
  },
  "cells": [
    {
      "cell_type": "markdown",
      "source": [
        "dataScience3.1practice"
      ],
      "metadata": {
        "id": "23ExlIDTnOut"
      }
    },
    {
      "cell_type": "code",
      "execution_count": 34,
      "metadata": {
        "colab": {
          "base_uri": "https://localhost:8080/"
        },
        "id": "fdFDRBl6yws4",
        "outputId": "7daa2b4f-94e5-48f6-fe76-29c0ba634689"
      },
      "outputs": [
        {
          "output_type": "stream",
          "name": "stdout",
          "text": [
            "x = tensor([[1, 2, 3],\n",
            "        [4, 5, 6],\n",
            "        [7, 8, 9]])\n",
            "y = tensor([[1., 2., 3.],\n",
            "        [4., 5., 6.],\n",
            "        [7., 8., 9.]])\n",
            "Size: torch.Size([3, 3])\n",
            "Shape: torch.Size([3, 3])\n",
            "차원(랭크): 2\n",
            "x0.shape: torch.Size([1, 3, 3])\n",
            "x1.shape: torch.Size([3, 1, 3])\n",
            "x2.shape: torch.Size([3, 3, 1])\n",
            "x0 = tensor([[[1, 2, 3],\n",
            "         [4, 5, 6],\n",
            "         [7, 8, 9]]])\n",
            "x1 = tensor([[[1, 2, 3]],\n",
            "\n",
            "        [[4, 5, 6]],\n",
            "\n",
            "        [[7, 8, 9]]])\n",
            "x2 = tensor([[[1],\n",
            "         [2],\n",
            "         [3]],\n",
            "\n",
            "        [[4],\n",
            "         [5],\n",
            "         [6]],\n",
            "\n",
            "        [[7],\n",
            "         [8],\n",
            "         [9]]])\n",
            "x3 = tensor([[1, 2, 3],\n",
            "        [4, 5, 6],\n",
            "        [7, 8, 9]])\n",
            "x3.shape = torch.Size([3, 3])\n",
            "x4 = tensor([1, 2, 3, 4, 5, 6, 7, 8, 9])\n",
            "x5 = tensor([[[1, 2, 3],\n",
            "         [4, 5, 6],\n",
            "         [7, 8, 9]]])\n"
          ]
        }
      ],
      "source": [
        "import torch\n",
        "\n",
        "\n",
        "x = torch.tensor([[1,2,3],[4,5,6],[7,8,9]])\n",
        "y = torch.FloatTensor([[1,2,3],[4,5,6],[7,8,9]])\n",
        "print(\"x =\", x)\n",
        "print(\"y =\", y)\n",
        "\n",
        "print(\"Size:\", x.size())\n",
        "print(\"Shape:\", x.shape)\n",
        "print(\"차원(랭크):\", x.ndimension())\n",
        "\n",
        "x0 = torch.unsqueeze(x, 0)\n",
        "x1 = torch.unsqueeze(x, 1)\n",
        "x2 = torch.unsqueeze(x, 2)\n",
        "print(\"x0.shape:\", x0.shape)\n",
        "print(\"x1.shape:\", x1.shape)\n",
        "print(\"x2.shape:\", x2.shape)\n",
        "print(\"x0 =\", x0)\n",
        "print(\"x1 =\", x1)\n",
        "print(\"x2 =\", x2)\n",
        "\n",
        "x3 = torch.squeeze(torch.squeeze(x0))\n",
        "print(\"x3 =\", x3)\n",
        "print(\"x3.shape =\", x3.shape)\n",
        "\n",
        "x4 = x.view(9)\n",
        "x5 = x.view(1,3,3)\n",
        "print(\"x4 =\", x4)\n",
        "print(\"x5 =\", x5)\n"
      ]
    },
    {
      "cell_type": "code",
      "source": [
        "x = torch.FloatTensor([[1,2],[3,4],[5,6]])\n",
        "w = torch.randn(1,2,dtype=torch.float)\n",
        "b = torch.randn(3,1,dtype=torch.float)\n",
        "\n",
        "result = x@w.T+b\n",
        "print(result)\n"
      ],
      "metadata": {
        "colab": {
          "base_uri": "https://localhost:8080/"
        },
        "id": "CqO8_VV_l_8J",
        "outputId": "91c4cae9-4379-4e98-d1d3-833e358cbc1d"
      },
      "execution_count": 35,
      "outputs": [
        {
          "output_type": "stream",
          "name": "stdout",
          "text": [
            "tensor([[ 4.3628],\n",
            "        [-0.0525],\n",
            "        [ 1.5404]])\n"
          ]
        }
      ]
    },
    {
      "cell_type": "code",
      "source": [
        "w = torch.tensor(1.0,requires_grad=True)\n",
        "a = w*3\n",
        "l = a**2\n",
        "l.backward()\n",
        "print(\"l을 w로 미분한 값은\", w.grad)"
      ],
      "metadata": {
        "colab": {
          "base_uri": "https://localhost:8080/"
        },
        "id": "JEoG-uGQmLBF",
        "outputId": "35a8eb01-d71e-466d-d6a2-3eb8163c9d8f"
      },
      "execution_count": 36,
      "outputs": [
        {
          "output_type": "stream",
          "name": "stdout",
          "text": [
            "l을 w로 미분한 값은 tensor(18.)\n"
          ]
        }
      ]
    },
    {
      "cell_type": "code",
      "source": [
        "\n",
        "x_train = torch.FloatTensor([[1,2],[3,2],[3,7],[1,1],[1,0]])\n",
        "y_train = torch.FloatTensor([[4],[8],[23],[1],[-2]])\n",
        "\n",
        "w = torch.randn(2,1)\n",
        "b = torch.randn(1,1)\n",
        "\n",
        "lr = 0.01\n",
        "\n",
        "for epoch in range(3001):\n",
        "  w.requires_grad_(True)\n",
        "  b.requires_grad_(True)\n",
        "\n",
        "  h = x_train@w+b\n",
        "  cost = torch.mean((h-y_train)**2)\n",
        "\n",
        "  cost.backward()\n",
        "\n",
        "  with torch.no_grad():\n",
        "    w = w - lr*w.grad\n",
        "    b = b - lr*b.grad\n",
        "\n",
        "    if epoch%100 == 0:\n",
        "      print(\"epoch: {}, cost: {:.6f}, w: {}, b: {}\".format(epoch, cost.item(), w.squeeze(), b))"
      ],
      "metadata": {
        "colab": {
          "base_uri": "https://localhost:8080/"
        },
        "id": "QAj0GTcw1w10",
        "outputId": "1bc3f95a-7587-423e-94b1-c7d5641ef2f3"
      },
      "execution_count": 37,
      "outputs": [
        {
          "output_type": "stream",
          "name": "stdout",
          "text": [
            "epoch: 0, cost: 50.363968, w: tensor([0.8750, 1.1836]), b: tensor([[0.9735]])\n",
            "epoch: 100, cost: 1.944905, w: tensor([0.4796, 3.1630]), b: tensor([[-1.0324]])\n",
            "epoch: 200, cost: 0.951917, w: tensor([0.7863, 3.2070]), b: tensor([[-1.9581]])\n",
            "epoch: 300, cost: 0.488597, w: tensor([1.1159, 3.1586]), b: tensor([[-2.5459]])\n",
            "epoch: 400, cost: 0.251091, w: tensor([1.3646, 3.1148]), b: tensor([[-2.9587]])\n",
            "epoch: 500, cost: 0.129040, w: tensor([1.5443, 3.0825]), b: tensor([[-3.2536]])\n",
            "epoch: 600, cost: 0.066316, w: tensor([1.6733, 3.0591]), b: tensor([[-3.4650]])\n",
            "epoch: 700, cost: 0.034081, w: tensor([1.7658, 3.0424]), b: tensor([[-3.6164]])\n",
            "epoch: 800, cost: 0.017515, w: tensor([1.8321, 3.0304]), b: tensor([[-3.7250]])\n",
            "epoch: 900, cost: 0.009001, w: tensor([1.8796, 3.0218]), b: tensor([[-3.8029]])\n",
            "epoch: 1000, cost: 0.004626, w: tensor([1.9137, 3.0156]), b: tensor([[-3.8587]])\n",
            "epoch: 1100, cost: 0.002377, w: tensor([1.9381, 3.0112]), b: tensor([[-3.8987]])\n",
            "epoch: 1200, cost: 0.001222, w: tensor([1.9557, 3.0080]), b: tensor([[-3.9274]])\n",
            "epoch: 1300, cost: 0.000628, w: tensor([1.9682, 3.0058]), b: tensor([[-3.9479]])\n",
            "epoch: 1400, cost: 0.000323, w: tensor([1.9772, 3.0041]), b: tensor([[-3.9627]])\n",
            "epoch: 1500, cost: 0.000166, w: tensor([1.9837, 3.0030]), b: tensor([[-3.9732]])\n",
            "epoch: 1600, cost: 0.000085, w: tensor([1.9883, 3.0021]), b: tensor([[-3.9808]])\n",
            "epoch: 1700, cost: 0.000044, w: tensor([1.9916, 3.0015]), b: tensor([[-3.9862]])\n",
            "epoch: 1800, cost: 0.000023, w: tensor([1.9940, 3.0011]), b: tensor([[-3.9901]])\n",
            "epoch: 1900, cost: 0.000012, w: tensor([1.9957, 3.0008]), b: tensor([[-3.9929]])\n",
            "epoch: 2000, cost: 0.000006, w: tensor([1.9969, 3.0006]), b: tensor([[-3.9949]])\n",
            "epoch: 2100, cost: 0.000003, w: tensor([1.9978, 3.0004]), b: tensor([[-3.9964]])\n",
            "epoch: 2200, cost: 0.000002, w: tensor([1.9984, 3.0003]), b: tensor([[-3.9974]])\n",
            "epoch: 2300, cost: 0.000001, w: tensor([1.9989, 3.0002]), b: tensor([[-3.9981]])\n",
            "epoch: 2400, cost: 0.000000, w: tensor([1.9992, 3.0001]), b: tensor([[-3.9987]])\n",
            "epoch: 2500, cost: 0.000000, w: tensor([1.9994, 3.0001]), b: tensor([[-3.9990]])\n",
            "epoch: 2600, cost: 0.000000, w: tensor([1.9996, 3.0001]), b: tensor([[-3.9993]])\n",
            "epoch: 2700, cost: 0.000000, w: tensor([1.9997, 3.0001]), b: tensor([[-3.9995]])\n",
            "epoch: 2800, cost: 0.000000, w: tensor([1.9998, 3.0000]), b: tensor([[-3.9996]])\n",
            "epoch: 2900, cost: 0.000000, w: tensor([1.9998, 3.0000]), b: tensor([[-3.9997]])\n",
            "epoch: 3000, cost: 0.000000, w: tensor([1.9999, 3.0000]), b: tensor([[-3.9998]])\n"
          ]
        }
      ]
    },
    {
      "cell_type": "code",
      "source": [
        "x_test = torch.FloatTensor([[5,10],[2,7],[10,3]])\n",
        "\n",
        "y_test = x_test @ w + b\n",
        "\n",
        "print(y_test)"
      ],
      "metadata": {
        "colab": {
          "base_uri": "https://localhost:8080/"
        },
        "id": "o3xZF2h03YjK",
        "outputId": "2fece468-af88-48c7-c4a2-d199e8ca91d6"
      },
      "execution_count": 38,
      "outputs": [
        {
          "output_type": "stream",
          "name": "stdout",
          "text": [
            "tensor([[35.9998],\n",
            "        [21.0001],\n",
            "        [24.9991]])\n"
          ]
        }
      ]
    },
    {
      "cell_type": "code",
      "source": [
        "from sklearn.linear_model import LinearRegression\n",
        "\n",
        "x = [[1,2],[3,2],[3,7],[1,1],[1,0]]\n",
        "y = [[4],[8],[23],[1],[-2]]\n",
        "\n",
        "lr = LinearRegression()\n",
        "lr.fit(x,y)\n",
        "\n",
        "print(lr.coef_, lr.intercept_)\n",
        "\n",
        "x_test = [[5,10],[2,7],[10,3]]\n",
        "\n",
        "y_test = lr.predict(x_test)\n",
        "print(y_test)"
      ],
      "metadata": {
        "colab": {
          "base_uri": "https://localhost:8080/"
        },
        "id": "ai7hTPEE3hqx",
        "outputId": "bd1f809d-cfa9-4668-d073-2abc53dbea21"
      },
      "execution_count": 39,
      "outputs": [
        {
          "output_type": "stream",
          "name": "stdout",
          "text": [
            "[[2. 3.]] [-4.]\n",
            "[[36.]\n",
            " [21.]\n",
            " [25.]]\n"
          ]
        }
      ]
    },
    {
      "cell_type": "markdown",
      "source": [
        "dataScience4.1practice"
      ],
      "metadata": {
        "id": "xsaLFl5nnWmi"
      }
    },
    {
      "cell_type": "code",
      "source": [
        "import torch\n",
        "\n",
        "x_train = torch.FloatTensor([[1],[2],[3],[4],[5],[2.5],[3.5],[0],[3.1],[2.7],[2.8],[2.9]])\n",
        "y_train = torch.FloatTensor([[1],[1],[1],[0],[0],[0],[0],[1],[0],[1],[1],[1]])\n",
        "\n"
      ],
      "metadata": {
        "id": "xhSIB3tx4MPf"
      },
      "execution_count": 40,
      "outputs": []
    },
    {
      "cell_type": "code",
      "source": [
        "w = torch.zeros(1,1)\n",
        "b = torch.zeros(1,1)\n",
        "\n",
        "lr = 1.0\n",
        "\n",
        "for epoch in range(3001):\n",
        "  w.requires_grad_(True)\n",
        "  b.requires_grad_(True)\n",
        "\n",
        "  h = torch.sigmoid(x_train@w+b)\n",
        "  cost = torch.mean(-y_train * torch.log(h) - (1-y_train)*torch.log(1-h))\n",
        "\n",
        "  cost.backward()\n",
        "\n",
        "  with torch.no_grad():\n",
        "    w = w - lr*w.grad\n",
        "    b = b - lr*b.grad\n",
        "\n",
        "    if epoch%100 == 0:\n",
        "      print(\"epoch: {}, cost: {:.6f}, w: {:.6f}, b: {:.6f}\".format(epoch, cost.item(), w.squeeze(), b.squeeze()))"
      ],
      "metadata": {
        "colab": {
          "base_uri": "https://localhost:8080/"
        },
        "id": "1K-FAl0xnuaD",
        "outputId": "dc053951-03a9-4bbe-e5ae-a49149caae52"
      },
      "execution_count": 41,
      "outputs": [
        {
          "output_type": "stream",
          "name": "stdout",
          "text": [
            "epoch: 0, cost: 0.693147, w: -0.154167, b: 0.083333\n",
            "epoch: 100, cost: 0.420221, w: -1.451281, b: 4.406925\n",
            "epoch: 200, cost: 0.398721, w: -1.898433, b: 5.773750\n",
            "epoch: 300, cost: 0.390820, w: -2.174322, b: 6.609554\n",
            "epoch: 400, cost: 0.387009, w: -2.367328, b: 7.191599\n",
            "epoch: 500, cost: 0.384924, w: -2.510626, b: 7.622531\n",
            "epoch: 600, cost: 0.383699, w: -2.620780, b: 7.953166\n",
            "epoch: 700, cost: 0.382944, w: -2.707397, b: 8.212804\n",
            "epoch: 800, cost: 0.382463, w: -2.776597, b: 8.420023\n",
            "epoch: 900, cost: 0.382149, w: -2.832521, b: 8.587363\n",
            "epoch: 1000, cost: 0.381941, w: -2.878112, b: 8.723699\n",
            "epoch: 1100, cost: 0.381801, w: -2.915530, b: 8.835541\n",
            "epoch: 1200, cost: 0.381706, w: -2.946402, b: 8.927781\n",
            "epoch: 1300, cost: 0.381641, w: -2.971980, b: 9.004181\n",
            "epoch: 1400, cost: 0.381596, w: -2.993242, b: 9.067673\n",
            "epoch: 1500, cost: 0.381565, w: -3.010969, b: 9.120601\n",
            "epoch: 1600, cost: 0.381543, w: -3.025777, b: 9.164803\n",
            "epoch: 1700, cost: 0.381528, w: -3.038172, b: 9.201797\n",
            "epoch: 1800, cost: 0.381517, w: -3.048561, b: 9.232802\n",
            "epoch: 1900, cost: 0.381509, w: -3.057279, b: 9.258815\n",
            "epoch: 2000, cost: 0.381504, w: -3.064605, b: 9.280675\n",
            "epoch: 2100, cost: 0.381500, w: -3.070766, b: 9.299055\n",
            "epoch: 2200, cost: 0.381497, w: -3.075950, b: 9.314522\n",
            "epoch: 2300, cost: 0.381495, w: -3.080314, b: 9.327541\n",
            "epoch: 2400, cost: 0.381494, w: -3.083992, b: 9.338511\n",
            "epoch: 2500, cost: 0.381493, w: -3.087090, b: 9.347754\n",
            "epoch: 2600, cost: 0.381493, w: -3.089704, b: 9.355551\n",
            "epoch: 2700, cost: 0.381492, w: -3.091908, b: 9.362126\n",
            "epoch: 2800, cost: 0.381492, w: -3.093769, b: 9.367676\n",
            "epoch: 2900, cost: 0.381491, w: -3.095338, b: 9.372355\n",
            "epoch: 3000, cost: 0.381491, w: -3.096662, b: 9.376306\n"
          ]
        }
      ]
    },
    {
      "cell_type": "code",
      "source": [
        "bce = torch.nn.BCELoss()\n",
        "\n",
        "w = torch.zeros(1,1)\n",
        "b = torch.zeros(1,1)\n",
        "\n",
        "lr = 1.0\n",
        "\n",
        "for epoch in range(3001):\n",
        "  w.requires_grad_(True)\n",
        "  b.requires_grad_(True)\n",
        "\n",
        "  h = torch.sigmoid(x_train@w+b)\n",
        "  cost = bce(h, y_train)\n",
        "\n",
        "  cost.backward()\n",
        "\n",
        "  with torch.no_grad():\n",
        "    w = w - lr*w.grad\n",
        "    b = b - lr*b.grad\n",
        "\n",
        "    if epoch%100 == 0:\n",
        "      print(\"epoch: {}, cost: {:.6f}, w: {:.6f}, b: {:.6f}\".format(epoch, cost.item(), w.squeeze(), b.squeeze()))"
      ],
      "metadata": {
        "colab": {
          "base_uri": "https://localhost:8080/"
        },
        "id": "KUE3uBHBoF60",
        "outputId": "49b3a352-a228-40fa-b6b8-d5ecd6e626d5"
      },
      "execution_count": 42,
      "outputs": [
        {
          "output_type": "stream",
          "name": "stdout",
          "text": [
            "epoch: 0, cost: 0.693147, w: -0.154167, b: 0.083333\n",
            "epoch: 100, cost: 0.420221, w: -1.451281, b: 4.406925\n",
            "epoch: 200, cost: 0.398721, w: -1.898433, b: 5.773751\n",
            "epoch: 300, cost: 0.390820, w: -2.174323, b: 6.609556\n",
            "epoch: 400, cost: 0.387009, w: -2.367328, b: 7.191599\n",
            "epoch: 500, cost: 0.384924, w: -2.510626, b: 7.622530\n",
            "epoch: 600, cost: 0.383699, w: -2.620779, b: 7.953165\n",
            "epoch: 700, cost: 0.382944, w: -2.707397, b: 8.212803\n",
            "epoch: 800, cost: 0.382463, w: -2.776595, b: 8.420020\n",
            "epoch: 900, cost: 0.382149, w: -2.832520, b: 8.587359\n",
            "epoch: 1000, cost: 0.381941, w: -2.878111, b: 8.723696\n",
            "epoch: 1100, cost: 0.381801, w: -2.915529, b: 8.835538\n",
            "epoch: 1200, cost: 0.381706, w: -2.946400, b: 8.927776\n",
            "epoch: 1300, cost: 0.381641, w: -2.971978, b: 9.004176\n",
            "epoch: 1400, cost: 0.381596, w: -2.993240, b: 9.067668\n",
            "epoch: 1500, cost: 0.381565, w: -3.010967, b: 9.120593\n",
            "epoch: 1600, cost: 0.381543, w: -3.025775, b: 9.164797\n",
            "epoch: 1700, cost: 0.381527, w: -3.038170, b: 9.201791\n",
            "epoch: 1800, cost: 0.381517, w: -3.048559, b: 9.232795\n",
            "epoch: 1900, cost: 0.381509, w: -3.057278, b: 9.258812\n",
            "epoch: 2000, cost: 0.381504, w: -3.064604, b: 9.280672\n",
            "epoch: 2100, cost: 0.381500, w: -3.070764, b: 9.299051\n",
            "epoch: 2200, cost: 0.381497, w: -3.075948, b: 9.314517\n",
            "epoch: 2300, cost: 0.381495, w: -3.080314, b: 9.327539\n",
            "epoch: 2400, cost: 0.381494, w: -3.083991, b: 9.338511\n",
            "epoch: 2500, cost: 0.381493, w: -3.087091, b: 9.347756\n",
            "epoch: 2600, cost: 0.381492, w: -3.089705, b: 9.355553\n",
            "epoch: 2700, cost: 0.381492, w: -3.091910, b: 9.362130\n",
            "epoch: 2800, cost: 0.381492, w: -3.093770, b: 9.367678\n",
            "epoch: 2900, cost: 0.381491, w: -3.095338, b: 9.372357\n",
            "epoch: 3000, cost: 0.381491, w: -3.096663, b: 9.376307\n"
          ]
        }
      ]
    },
    {
      "cell_type": "code",
      "source": [
        "# optimizer\n",
        "\n",
        "w = torch.randn(1,1, requires_grad=True)\n",
        "b = torch.randn(1,1, requires_grad=True)\n",
        "\n",
        "optimizer = torch.optim.SGD([w,b], lr=1.0)\n",
        "# optimizer = torch.optim.Adam([w,b], lr=1.0)\n",
        "# optimizer = torch.optim.RMSprop([w,b], lr=0.1)\n",
        "\n",
        "for epoch in range(3001):\n",
        "\n",
        "  h = torch.sigmoid(x_train @ w + b)\n",
        "  cost = torch.mean(-y_train * torch.log(h) - (1-y_train)*torch.log(1-h))\n",
        "\n",
        "  optimizer.zero_grad()\n",
        "  cost.backward()\n",
        "  optimizer.step()\n",
        "\n",
        "  with torch.no_grad():\n",
        "\n",
        "    if epoch % 100 == 0:\n",
        "      print(epoch, cost.item(), w.item(), b.item())"
      ],
      "metadata": {
        "colab": {
          "base_uri": "https://localhost:8080/"
        },
        "id": "AIJDVjbfoTTL",
        "outputId": "69b11077-239a-46aa-97b8-b73782709956"
      },
      "execution_count": 43,
      "outputs": [
        {
          "output_type": "stream",
          "name": "stdout",
          "text": [
            "0 1.0248620510101318 0.1645682454109192 0.5523115396499634\n",
            "100 0.41902396082878113 -1.4701725244522095 4.465065002441406\n",
            "200 0.3983558714389801 -1.9090218544006348 5.80592155456543\n",
            "300 0.39065709710121155 -2.181442975997925 6.631063461303711\n",
            "400 0.38692307472229004 -2.3725037574768066 7.207179069519043\n",
            "500 0.38487520813941956 -2.514549970626831 7.6343183517456055\n",
            "600 0.38366904854774475 -2.6238372325897217 7.962336540222168\n",
            "700 0.3829249143600464 -2.709824323654175 8.220075607299805\n",
            "800 0.3824506998062134 -2.7785494327545166 8.42586898803711\n",
            "900 0.38214147090911865 -2.834106683731079 8.592103958129883\n",
            "1000 0.38193604350090027 -2.879411220550537 8.727581977844238\n",
            "1100 0.3817979097366333 -2.9165992736816406 8.838735580444336\n",
            "1200 0.38170382380485535 -2.9472861289978027 8.93042278289795\n",
            "1300 0.3816392421722412 -2.9727120399475098 9.006367683410645\n",
            "1400 0.38159480690956116 -2.9938511848449707 9.069493293762207\n",
            "1500 0.38156387209892273 -3.011474847793579 9.122109413146973\n",
            "1600 0.3815421760082245 -3.0262012481689453 9.166068077087402\n",
            "1700 0.3815270662307739 -3.0385260581970215 9.202853202819824\n",
            "1800 0.38151636719703674 -3.048858880996704 9.233689308166504\n",
            "1900 0.38150906562805176 -3.057529926300049 9.259564399719238\n",
            "2000 0.3815036714076996 -3.0648152828216553 9.281301498413086\n",
            "2100 0.3814999759197235 -3.0709421634674072 9.299581527709961\n",
            "2200 0.3814972937107086 -3.0760977268218994 9.314962387084961\n",
            "2300 0.3814953863620758 -3.0804390907287598 9.327914237976074\n",
            "2400 0.3814941346645355 -3.084097146987915 9.338826179504395\n",
            "2500 0.38149309158325195 -3.0871798992156982 9.3480224609375\n",
            "2600 0.38149237632751465 -3.089779853820801 9.355777740478516\n",
            "2700 0.38149192929267883 -3.0919718742370605 9.362316131591797\n",
            "2800 0.38149166107177734 -3.0938215255737305 9.367833137512207\n",
            "2900 0.38149139285087585 -3.0953829288482666 9.372490882873535\n",
            "3000 0.3814912736415863 -3.096700668334961 9.376420974731445\n"
          ]
        }
      ]
    },
    {
      "cell_type": "code",
      "source": [
        "x_test = torch.FloatTensor([[4.5],[1.1]])\n",
        "test_result = torch.sigmoid(x_test@w+b)\n",
        "print(torch.round(test_result))"
      ],
      "metadata": {
        "colab": {
          "base_uri": "https://localhost:8080/"
        },
        "id": "i-pJPr4a6rJk",
        "outputId": "91994d63-9275-47e4-9ccc-c7b4b20234be"
      },
      "execution_count": 44,
      "outputs": [
        {
          "output_type": "stream",
          "name": "stdout",
          "text": [
            "tensor([[0.],\n",
            "        [1.]], grad_fn=<RoundBackward0>)\n"
          ]
        }
      ]
    },
    {
      "cell_type": "code",
      "source": [
        "import matplotlib.pyplot as plt\n",
        "\n",
        "X = torch.linspace(0, 5, 100).unsqueeze(1)\n",
        "Y = torch.sigmoid(X@w+b).detach().numpy()\n",
        "\n",
        "plt.scatter(x_train, y_train)\n",
        "plt.plot(X, Y, c=\"red\")\n",
        "plt.show()"
      ],
      "metadata": {
        "colab": {
          "base_uri": "https://localhost:8080/",
          "height": 430
        },
        "id": "qhZhw81V8vW0",
        "outputId": "333acc58-875a-49e2-a9e3-dd8223e345f7"
      },
      "execution_count": 48,
      "outputs": [
        {
          "output_type": "display_data",
          "data": {
            "text/plain": [
              "<Figure size 640x480 with 1 Axes>"
            ],
            "image/png": "[encoded data removed]"
          },
          "metadata": {}
        }
      ]
    },
    {
      "cell_type": "code",
      "source": [
        "import math\n",
        "\n",
        "X = [x.item() for x in torch.linspace(0, 5, 100)]\n",
        "Y = [math.sin(x) for x in X]\n",
        "\n",
        "plt.plot(X, Y)"
      ],
      "metadata": {
        "colab": {
          "base_uri": "https://localhost:8080/",
          "height": 448
        },
        "id": "SJyyxuizqicg",
        "outputId": "8f6aeb4b-3bb3-4e74-8614-2d6868bccc40"
      },
      "execution_count": 28,
      "outputs": [
        {
          "output_type": "execute_result",
          "data": {
            "text/plain": [
              "[<matplotlib.lines.Line2D at 0x7aea06327670>]"
            ]
          },
          "metadata": {},
          "execution_count": 28
        },
        {
          "output_type": "display_data",
          "data": {
            "text/plain": [
              "<Figure size 640x480 with 1 Axes>"
            ],
            "image/png": "[encoded data removed]"
          },
          "metadata": {}
        }
      ]
    },
    {
      "cell_type": "code",
      "source": [
        "from sklearn.linear_model import LogisticRegression\n",
        "\n",
        "x_train = [[1],[2],[3],[4],[5],[2.5],[3.5],[0],[3.1],[2.7],[2.8],[2.9]]\n",
        "y_train = [1,1,1,0,0,0,0,1,0,1,1,1]\n",
        "\n",
        "model = LogisticRegression(penalty=None)\n",
        "model.fit(x_train, y_train)\n",
        "\n",
        "print(model.coef_, model.intercept_)\n",
        "\n",
        "x_test = [[4.5],[1.1]]\n",
        "res = model.predict(x_test)\n",
        "print(res)"
      ],
      "metadata": {
        "colab": {
          "base_uri": "https://localhost:8080/"
        },
        "id": "je45iWXG9rkn",
        "outputId": "b4e93f50-5cad-4ac2-ddc6-0b0dbda71b16"
      },
      "execution_count": 29,
      "outputs": [
        {
          "output_type": "stream",
          "name": "stdout",
          "text": [
            "[[-3.10385806]] [9.39776831]\n",
            "[0 1]\n"
          ]
        }
      ]
    },
    {
      "cell_type": "markdown",
      "source": [
        "dataScience5.1practice"
      ],
      "metadata": {
        "id": "RHfJYQkZqqva"
      }
    },
    {
      "cell_type": "code",
      "source": [
        "import torch\n",
        "\n",
        "x_train = torch.FloatTensor([[1,2,1,1],[2,1,3,2],[3,1,3,4],[4,1,5,5],[1,7,5,5],[1,2,5,6],[1,6,6,6],[1,7,7,7]])\n",
        "y_train = torch.FloatTensor([[0,0,1],[0,0,1],[0,0,1],[0,1,0],[0,1,0],[0,1,0],[1,0,0],[1,0,0]])\n",
        "\n",
        "W = torch.randn(4,3,requires_grad=True)\n",
        "b = torch.randn(1,3,requires_grad=True)\n",
        "\n",
        "optim = torch.optim.Adam([W,b],lr=0.1)\n",
        "\n",
        "for epoch in range(3001):\n",
        "  h = torch.softmax(torch.mm(x_train,W)+b,dim=1)\n",
        "  cost = -torch.mean(torch.sum(y_train*torch.log(h),dim=1))\n",
        "\n",
        "  # h = (torch.mm(x_train,w)+b).softmax(dim=1)\n",
        "  # cost = -(y_train*torch.log(h)).sum(dim=1).mean()\n",
        "\n",
        "  optim.zero_grad()\n",
        "  cost.backward()\n",
        "  optim.step()\n",
        "\n",
        "  with torch.no_grad():\n",
        "    if epoch % 100 == 0:\n",
        "      print(\"epoch: {}, cost: {:.6f}\".format(epoch, cost.item()))\n"
      ],
      "metadata": {
        "colab": {
          "base_uri": "https://localhost:8080/"
        },
        "id": "GSlGpck9_xbd",
        "outputId": "a96f0571-27f1-4fc3-bb5e-61e259c41d6c"
      },
      "execution_count": 32,
      "outputs": [
        {
          "output_type": "stream",
          "name": "stdout",
          "text": [
            "epoch: 0, cost: 6.924340\n",
            "epoch: 100, cost: 0.407624\n",
            "epoch: 200, cost: 0.274345\n",
            "epoch: 300, cost: 0.195013\n",
            "epoch: 400, cost: 0.145140\n",
            "epoch: 500, cost: 0.112143\n",
            "epoch: 600, cost: 0.089195\n",
            "epoch: 700, cost: 0.072573\n",
            "epoch: 800, cost: 0.060141\n",
            "epoch: 900, cost: 0.050599\n",
            "epoch: 1000, cost: 0.043117\n",
            "epoch: 1100, cost: 0.037143\n",
            "epoch: 1200, cost: 0.032297\n",
            "epoch: 1300, cost: 0.028314\n",
            "epoch: 1400, cost: 0.024999\n",
            "epoch: 1500, cost: 0.022212\n",
            "epoch: 1600, cost: 0.019846\n",
            "epoch: 1700, cost: 0.017820\n",
            "epoch: 1800, cost: 0.016072\n",
            "epoch: 1900, cost: 0.014553\n",
            "epoch: 2000, cost: 0.013226\n",
            "epoch: 2100, cost: 0.012059\n",
            "epoch: 2200, cost: 0.011027\n",
            "epoch: 2300, cost: 0.010111\n",
            "epoch: 2400, cost: 0.009294\n",
            "epoch: 2500, cost: 0.008563\n",
            "epoch: 2600, cost: 0.007905\n",
            "epoch: 2700, cost: 0.007312\n",
            "epoch: 2800, cost: 0.006775\n",
            "epoch: 2900, cost: 0.006288\n",
            "epoch: 3000, cost: 0.005844\n"
          ]
        }
      ]
    },
    {
      "cell_type": "code",
      "source": [
        "x_test = torch.tensor([[1,11,10,9], [1,3,4,3], [1,1,0,1]], dtype=torch.float)\n",
        "\n",
        "h_test = torch.softmax(torch.mm(x_test,W)+b,dim=1)\n",
        "print(h_test)\n",
        "print(torch.argmax(h_test, dim=1))"
      ],
      "metadata": {
        "colab": {
          "base_uri": "https://localhost:8080/"
        },
        "id": "-NC8Q2v8r7I5",
        "outputId": "2d8682b3-8f0b-46d6-dafa-592798a3c8e8"
      },
      "execution_count": 52,
      "outputs": [
        {
          "output_type": "stream",
          "name": "stdout",
          "text": [
            "tensor([[1.0000e+00, 2.3580e-25, 0.0000e+00],\n",
            "        [1.0000e+00, 6.2225e-07, 8.8898e-17],\n",
            "        [1.7031e-11, 4.8124e-01, 5.1876e-01]], grad_fn=<SoftmaxBackward0>)\n",
            "tensor([0, 0, 2])\n"
          ]
        }
      ]
    },
    {
      "cell_type": "code",
      "source": [
        "w.requires_grad_(False)\n",
        "b.requires_grad_(False)\n",
        "\n",
        "x_test = torch.FloatTensor([[1,11,10,9], [1,3,4,3], [1,1,0,1]])\n",
        "test_all = torch.softmax(torch.mm(x_test,W)+b,dim=1)\n",
        "print(test_all)\n",
        "print(torch.argmax(test_all, dim=1))"
      ],
      "metadata": {
        "colab": {
          "base_uri": "https://localhost:8080/"
        },
        "id": "h4D23DAFaXZO",
        "outputId": "8a73eada-0b38-43bb-a639-283db6725c8d"
      },
      "execution_count": 51,
      "outputs": [
        {
          "output_type": "stream",
          "name": "stdout",
          "text": [
            "tensor([[1.0000e+00, 2.3580e-25, 0.0000e+00],\n",
            "        [1.0000e+00, 6.2225e-07, 8.8898e-17],\n",
            "        [1.7031e-11, 4.8124e-01, 5.1876e-01]], grad_fn=<SoftmaxBackward0>)\n",
            "tensor([0, 0, 2])\n"
          ]
        }
      ]
    },
    {
      "cell_type": "code",
      "source": [
        "import torch\n",
        "import torch.nn.functional as F\n",
        "import torch.nn as nn\n",
        "\n",
        "x_train = torch.FloatTensor([[1,2,1,1],[2,1,3,2],[3,1,3,4],[4,1,5,5],[1,7,5,5],[1,2,5,6],[1,6,6,6],[1,7,7,7]])\n",
        "y_train = torch.LongTensor([2,2,2,1,1,1,0,0])\n",
        "\n",
        "# W = torch.randn(4,3,requires_grad=True)\n",
        "# b = torch.randn(1,3,requires_grad=True)\n",
        "# optim = torch.optim.Adam([W,b],lr=0.1)\n",
        "\n",
        "model = nn.Linear(4,3)\n",
        "optim = torch.optim.Adam(model.parameters(), lr=0.1)\n",
        "\n",
        "for epoch in range(3001):\n",
        "\n",
        "  # h = torch.mm(x_train, W)+b\n",
        "  h = model(x_train)\n",
        "  cost = F.cross_entropy(h, y_train)\n",
        "\n",
        "  optim.zero_grad()\n",
        "  cost.backward()\n",
        "  optim.step()\n",
        "\n",
        "  with torch.no_grad():\n",
        "    if epoch % 100 == 0:\n",
        "      print(epoch, cost.item())\n"
      ],
      "metadata": {
        "colab": {
          "base_uri": "https://localhost:8080/"
        },
        "id": "nMApeHZctr_Z",
        "outputId": "6fc43373-5cb4-47c7-acbc-97bbbf6b9b7d"
      },
      "execution_count": 53,
      "outputs": [
        {
          "output_type": "stream",
          "name": "stdout",
          "text": [
            "0 2.835744857788086\n",
            "100 0.339946985244751\n",
            "200 0.22497659921646118\n",
            "300 0.15668633580207825\n",
            "400 0.11526291072368622\n",
            "500 0.08841975778341293\n",
            "600 0.06997993588447571\n",
            "700 0.05673752352595329\n",
            "800 0.04689701646566391\n",
            "900 0.039382386952638626\n",
            "1000 0.03351340442895889\n",
            "1100 0.028841722756624222\n",
            "1200 0.025062108412384987\n",
            "1300 0.02196059189736843\n",
            "1400 0.019383681938052177\n",
            "1500 0.017219077795743942\n",
            "1600 0.015383020974695683\n",
            "1700 0.013812068849802017\n",
            "1800 0.012457321397960186\n",
            "1900 0.011280826292932034\n",
            "2000 0.01025253813713789\n",
            "2100 0.009348634630441666\n",
            "2200 0.008549831807613373\n",
            "2300 0.007840465754270554\n",
            "2400 0.007207768969237804\n",
            "2500 0.006641133222728968\n",
            "2600 0.006131760776042938\n",
            "2700 0.005672275088727474\n",
            "2800 0.005256463773548603\n",
            "2900 0.004879059735685587\n",
            "3000 0.004535522311925888\n"
          ]
        }
      ]
    },
    {
      "cell_type": "code",
      "source": [
        "import numpy as np\n",
        "from sklearn.linear_model import LogisticRegression\n",
        "\n",
        "x_train = np.array([[1,2,1,1],[2,1,3,2],[3,1,3,4],[4,1,5,5],[1,7,5,5],[1,2,5,6],[1,6,6,6],[1,7,7,7]])\n",
        "y_train = np.array([2,2,2,1,1,1,0,0])\n",
        "\n",
        "model = LogisticRegression(penalty=None)\n",
        "\n",
        "model.fit(x_train, y_train)\n",
        "\n",
        "x_test = np.array([[1,11,10,9],[1,3,4,3],[1,1,0,1]])\n",
        "\n",
        "print(model.predict(x_test))"
      ],
      "metadata": {
        "colab": {
          "base_uri": "https://localhost:8080/"
        },
        "id": "s2bm6XCrchLG",
        "outputId": "07975a09-4042-4bca-eed1-22c506421b13"
      },
      "execution_count": 54,
      "outputs": [
        {
          "output_type": "stream",
          "name": "stdout",
          "text": [
            "[0 1 2]\n"
          ]
        }
      ]
    }
  ]
}