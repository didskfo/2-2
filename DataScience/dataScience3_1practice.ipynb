{
  "nbformat": 4,
  "nbformat_minor": 0,
  "metadata": {
    "colab": {
      "provenance": []
    },
    "kernelspec": {
      "name": "python3",
      "display_name": "Python 3"
    },
    "language_info": {
      "name": "python"
    }
  },
  "cells": [
    {
      "cell_type": "code",
      "execution_count": 2,
      "metadata": {
        "colab": {
          "base_uri": "https://localhost:8080/"
        },
        "id": "8ZeLhcCceBU9",
        "outputId": "54800e2d-2340-47ac-a374-bf6bdb253c6b"
      },
      "outputs": [
        {
          "output_type": "stream",
          "name": "stdout",
          "text": [
            "torch.Size([3, 2, 2])\n",
            "3\n",
            "3\n"
          ]
        }
      ],
      "source": [
        "import torch\n",
        "\n",
        "x = torch.FloatTensor([[1, 2, 3], [4, 5, 6], [7, 8, 9]])\n",
        "y = torch.FloatTensor([[[1, 2], [3, 4]],[[1, 2], [3, 4]], [[1, 2], [3, 4]]])\n",
        "# print(x)\n",
        "# print(x.type())\n",
        "\n",
        "# print(x.size())\n",
        "# print(x.shape)\n",
        "# print(x.ndimension())\n",
        "\n",
        "print(y.shape)\n",
        "# print(y.ndimension())\n",
        "print(len(y.shape))"
      ]
    },
    {
      "cell_type": "code",
      "source": [
        "x = torch.FloatTensor([[[1, 2], [3, 4]],[[1, 2], [3, 4]], [[1, 2], [3, 4]]])\n",
        "\n",
        "print(x.shape)\n",
        "print(x)\n",
        "\n",
        "x0 = x.unsqueeze(0) #[3,2,2] -> [1,3,2,2]\n",
        "x1 = x.unsqueeze(1) #[3,2,2] -> [3,1,2,2]\n",
        "x2 = x.unsqueeze(2) #[3,2,2] -> [3,2,1,2]\n",
        "x3 = x.unsqueeze(3) #[3,2,2] -> [3,2,2,1]\n",
        "print(x0)\n",
        "print(x1)\n",
        "print(x2)\n",
        "print(x3)"
      ],
      "metadata": {
        "colab": {
          "base_uri": "https://localhost:8080/"
        },
        "id": "-p69RX9BecpX",
        "outputId": "72cc5fb4-be7f-4db7-d53a-a57c28201b0d"
      },
      "execution_count": 7,
      "outputs": [
        {
          "output_type": "stream",
          "name": "stdout",
          "text": [
            "torch.Size([3, 2, 2])\n",
            "tensor([[[1., 2.],\n",
            "         [3., 4.]],\n",
            "\n",
            "        [[1., 2.],\n",
            "         [3., 4.]],\n",
            "\n",
            "        [[1., 2.],\n",
            "         [3., 4.]]])\n",
            "tensor([[[[1., 2.],\n",
            "          [3., 4.]],\n",
            "\n",
            "         [[1., 2.],\n",
            "          [3., 4.]],\n",
            "\n",
            "         [[1., 2.],\n",
            "          [3., 4.]]]])\n",
            "tensor([[[[1., 2.],\n",
            "          [3., 4.]]],\n",
            "\n",
            "\n",
            "        [[[1., 2.],\n",
            "          [3., 4.]]],\n",
            "\n",
            "\n",
            "        [[[1., 2.],\n",
            "          [3., 4.]]]])\n",
            "tensor([[[[1., 2.]],\n",
            "\n",
            "         [[3., 4.]]],\n",
            "\n",
            "\n",
            "        [[[1., 2.]],\n",
            "\n",
            "         [[3., 4.]]],\n",
            "\n",
            "\n",
            "        [[[1., 2.]],\n",
            "\n",
            "         [[3., 4.]]]])\n",
            "tensor([[[[1.],\n",
            "          [2.]],\n",
            "\n",
            "         [[3.],\n",
            "          [4.]]],\n",
            "\n",
            "\n",
            "        [[[1.],\n",
            "          [2.]],\n",
            "\n",
            "         [[3.],\n",
            "          [4.]]],\n",
            "\n",
            "\n",
            "        [[[1.],\n",
            "          [2.]],\n",
            "\n",
            "         [[3.],\n",
            "          [4.]]]])\n"
          ]
        }
      ]
    },
    {
      "cell_type": "code",
      "source": [
        "# x3.shape\n",
        "# print(x3.squeeze().shape)\n",
        "# print(x2.squeeze().shape)\n",
        "# print(x1.squeeze().shape)\n",
        "# print(x0.squeeze().shape)\n",
        "x.shape\n",
        "\n",
        "xt = x.unsqueeze(0).unsqueeze(1).unsqueeze(0).unsqueeze(5) #[3,2,2] -> [1,1,1,3,2,1,2]\n",
        "print(xt.squeeze().shape)"
      ],
      "metadata": {
        "colab": {
          "base_uri": "https://localhost:8080/"
        },
        "id": "NkXs_2EPgOEI",
        "outputId": "c0e000c6-b6b4-4523-d861-7411e91a251e"
      },
      "execution_count": 15,
      "outputs": [
        {
          "output_type": "stream",
          "name": "stdout",
          "text": [
            "torch.Size([3, 2, 2])\n"
          ]
        }
      ]
    },
    {
      "cell_type": "code",
      "source": [
        "x.view(3,1,-1)"
      ],
      "metadata": {
        "colab": {
          "base_uri": "https://localhost:8080/"
        },
        "id": "vIMMQEEehHy7",
        "outputId": "94f48661-00d0-4df6-d26d-4aa753f1dd62"
      },
      "execution_count": 22,
      "outputs": [
        {
          "output_type": "execute_result",
          "data": {
            "text/plain": [
              "tensor([[[1., 2., 3., 4.]],\n",
              "\n",
              "        [[1., 2., 3., 4.]],\n",
              "\n",
              "        [[1., 2., 3., 4.]]])"
            ]
          },
          "metadata": {},
          "execution_count": 22
        }
      ]
    },
    {
      "cell_type": "code",
      "source": [
        "x = torch.FloatTensor([[1,2], [3,4], [5,6]])\n",
        "w = torch.randn(1, 2, dtype=torch.float)\n",
        "b = torch.randn(3, 1, dtype=torch.float)\n",
        "\n",
        "print(x @ w.T + b)\n",
        "# torch.mm(x, w.T)\n",
        "# torch.t(w) == w.T\n",
        "\n",
        "# print(x)\n",
        "# print(w)\n",
        "# print(b)"
      ],
      "metadata": {
        "colab": {
          "base_uri": "https://localhost:8080/"
        },
        "id": "dc7N64twhoon",
        "outputId": "56888ee5-df3d-4aef-d323-908dc76c20f9"
      },
      "execution_count": 24,
      "outputs": [
        {
          "output_type": "stream",
          "name": "stdout",
          "text": [
            "tensor([[-0.4924],\n",
            "        [ 1.3870],\n",
            "        [ 4.3300]])\n",
            "tensor([[1., 2.],\n",
            "        [3., 4.],\n",
            "        [5., 6.]])\n",
            "tensor([[ 0.9860, -0.3191]])\n",
            "tensor([[-0.8402],\n",
            "        [-0.2946],\n",
            "        [ 1.3147]])\n"
          ]
        }
      ]
    },
    {
      "cell_type": "code",
      "source": [
        "w = torch.tensor(4.0, requires_grad=True)\n",
        "a = w*3\n",
        "l = a**2\n",
        "l.backward()\n",
        "print(w.grad)"
      ],
      "metadata": {
        "colab": {
          "base_uri": "https://localhost:8080/"
        },
        "id": "2ZtiLsCTik-3",
        "outputId": "6142e787-5875-46b2-bc19-95f0b2bd922c"
      },
      "execution_count": 27,
      "outputs": [
        {
          "output_type": "stream",
          "name": "stdout",
          "text": [
            "tensor(72.)\n"
          ]
        }
      ]
    },
    {
      "cell_type": "code",
      "source": [
        "x_train = torch.FloatTensor([[1,2],[3,2],[3,7],[1,1],[1,0]])\n",
        "y_train = torch.FloatTensor([[4],[8],[23],[1],[-2]])\n",
        "\n",
        "w = torch.randn(2,1)\n",
        "b = torch.randn(1)\n",
        "\n",
        "lr = 0.01"
      ],
      "metadata": {
        "id": "9UCEvsKZjYVd"
      },
      "execution_count": 29,
      "outputs": []
    },
    {
      "cell_type": "code",
      "source": [
        "\n",
        "for epoch in range(3001):\n",
        "  w.requires_grad_(True)\n",
        "  b.requires_grad_(True)\n",
        "\n",
        "  h = x_train @ w + b\n",
        "  cost = ((h - y_train) ** 2).mean()\n",
        "\n",
        "  cost.backward()\n",
        "\n",
        "  with torch.no_grad():\n",
        "    w = w - lr * w.grad\n",
        "    b = b - lr * b.grad\n",
        "\n",
        "    if epoch % 100 == 0:\n",
        "      print(epoch, cost.item(), w.squeeze(), b)"
      ],
      "metadata": {
        "colab": {
          "base_uri": "https://localhost:8080/"
        },
        "id": "GkgQgeWSj2Zk",
        "outputId": "2b4d2901-1101-462a-a5b9-c7459e9a1005"
      },
      "execution_count": 35,
      "outputs": [
        {
          "output_type": "stream",
          "name": "stdout",
          "text": [
            "0 203.93374633789062 tensor([ 0.3771, -0.2369]) tensor([1.7862])\n",
            "100 2.7184784412384033 tensor([0.2382, 3.1729]) tensor([-0.4929])\n",
            "200 1.3163727521896362 tensor([0.5758, 3.2412]) tensor([-1.5972])\n",
            "300 0.6754717230796814 tensor([0.9608, 3.1862]) tensor([-2.2901])\n",
            "400 0.34712421894073486 tensor([1.2529, 3.1350]) tensor([-2.7756])\n",
            "500 0.1783936470746994 tensor([1.4642, 3.0970]) tensor([-3.1224])\n",
            "600 0.09167958796024323 tensor([1.6159, 3.0695]) tensor([-3.3709])\n",
            "700 0.0471157506108284 tensor([1.7246, 3.0498]) tensor([-3.5490])\n",
            "800 0.02421371079981327 tensor([1.8026, 3.0357]) tensor([-3.6767])\n",
            "900 0.012443939223885536 tensor([1.8585, 3.0256]) tensor([-3.7682])\n",
            "1000 0.006395167205482721 tensor([1.8985, 3.0184]) tensor([-3.8338])\n",
            "1100 0.0032866070978343487 tensor([1.9273, 3.0132]) tensor([-3.8809])\n",
            "1200 0.0016890279948711395 tensor([1.9479, 3.0094]) tensor([-3.9146])\n",
            "1300 0.0008680351311340928 tensor([1.9626, 3.0068]) tensor([-3.9388])\n",
            "1400 0.00044609460746869445 tensor([1.9732, 3.0048]) tensor([-3.9561])\n",
            "1500 0.00022925106168258935 tensor([1.9808, 3.0035]) tensor([-3.9685])\n",
            "1600 0.00011781950888689607 tensor([1.9862, 3.0025]) tensor([-3.9774])\n",
            "1700 6.0554553783731535e-05 tensor([1.9901, 3.0018]) tensor([-3.9838])\n",
            "1800 3.111945261480287e-05 tensor([1.9929, 3.0013]) tensor([-3.9884])\n",
            "1900 1.5992463886504993e-05 tensor([1.9949, 3.0009]) tensor([-3.9917])\n",
            "2000 8.218227776524145e-06 tensor([1.9964, 3.0007]) tensor([-3.9940])\n",
            "2100 4.224726581014693e-06 tensor([1.9974, 3.0005]) tensor([-3.9957])\n",
            "2200 2.172649146814365e-06 tensor([1.9981, 3.0003]) tensor([-3.9969])\n",
            "2300 1.1163995168317342e-06 tensor([1.9987, 3.0002]) tensor([-3.9978])\n",
            "2400 5.739033213103539e-07 tensor([1.9990, 3.0002]) tensor([-3.9984])\n",
            "2500 2.95389213533781e-07 tensor([1.9993, 3.0001]) tensor([-3.9989])\n",
            "2600 1.518068017958285e-07 tensor([1.9995, 3.0001]) tensor([-3.9992])\n",
            "2700 7.833468629314666e-08 tensor([1.9996, 3.0001]) tensor([-3.9994])\n",
            "2800 4.027864619615684e-08 tensor([1.9997, 3.0000]) tensor([-3.9996])\n",
            "2900 2.0829123315024844e-08 tensor([1.9998, 3.0000]) tensor([-3.9997])\n",
            "3000 1.0816734175023157e-08 tensor([1.9999, 3.0000]) tensor([-3.9998])\n"
          ]
        }
      ]
    },
    {
      "cell_type": "code",
      "source": [
        "x_test = torch.FloatTensor([[5,10],[2,7],[10,3]])\n",
        "\n",
        "y_test = x_test @ w + b\n",
        "\n",
        "print(y_test)"
      ],
      "metadata": {
        "colab": {
          "base_uri": "https://localhost:8080/"
        },
        "id": "SuwILDmLlbLu",
        "outputId": "a1ca003c-1868-4ac8-937e-c43d95f7f16a"
      },
      "execution_count": 37,
      "outputs": [
        {
          "output_type": "stream",
          "name": "stdout",
          "text": [
            "tensor([[35.9998],\n",
            "        [21.0001],\n",
            "        [24.9990]])\n"
          ]
        }
      ]
    },
    {
      "cell_type": "code",
      "source": [
        "from sklearn.linear_model import LinearRegression\n",
        "\n",
        "x = [[1,2],[3,2],[3,7],[1,1],[1,0]]\n",
        "y = [[4],[8],[23],[1],[-2]]\n",
        "\n",
        "lr = LinearRegression()\n",
        "lr.fit(x, y)\n",
        "\n",
        "print(lr.coef_, lr.intercept_)\n",
        "\n",
        "x_test = [[5,10],[2,7],[10,3]]\n",
        "\n",
        "y_test = lr.predict(x_test)\n",
        "print(y_test)"
      ],
      "metadata": {
        "colab": {
          "base_uri": "https://localhost:8080/"
        },
        "id": "bYaDNE0El2CZ",
        "outputId": "856e4d0c-b51c-4f17-c6cf-754bd01e381f"
      },
      "execution_count": 38,
      "outputs": [
        {
          "output_type": "stream",
          "name": "stdout",
          "text": [
            "[[2. 3.]] [-4.]\n",
            "[[36.]\n",
            " [21.]\n",
            " [25.]]\n"
          ]
        }
      ]
    }
  ]
}